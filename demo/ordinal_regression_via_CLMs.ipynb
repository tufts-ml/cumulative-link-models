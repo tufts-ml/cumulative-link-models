{
 "cells": [
  {
   "attachments": {},
   "cell_type": "markdown",
   "metadata": {},
   "source": [
    "# Static Ordinal Regression with Diabetes toy dataset using TensorFlow\n",
    "---------"
   ]
  },
  {
   "attachments": {},
   "cell_type": "markdown",
   "metadata": {},
   "source": [
    "## Imports"
   ]
  },
  {
   "cell_type": "code",
   "execution_count": 1,
   "metadata": {},
   "outputs": [],
   "source": [
    "import sys, os\n",
    "import numpy as np\n",
    "import pandas as pd\n",
    "from matplotlib import pyplot as plt\n",
    "import seaborn as sns\n",
    "from sklearn.datasets import load_diabetes\n",
    "from sklearn.preprocessing import StandardScaler\n",
    "from sklearn.linear_model import LogisticRegression\n",
    "from sklearn.preprocessing import MultiLabelBinarizer, KBinsDiscretizer\n",
    "from sklearn.pipeline import Pipeline\n",
    "from sklearn.compose import ColumnTransformer\n",
    "from sklearn.model_selection import train_test_split\n",
    "from sklearn.metrics import roc_curve, precision_recall_curve, auc, confusion_matrix"
   ]
  },
  {
   "cell_type": "code",
   "execution_count": 2,
   "metadata": {},
   "outputs": [],
   "source": [
    "import tensorflow as tf\n",
    "import tensorflow_probability as tfp\n",
    "from tensorflow_probability import bijectors as tfb\n",
    "from tensorflow.keras.optimizers import Adam"
   ]
  },
  {
   "cell_type": "code",
   "execution_count": 3,
   "metadata": {},
   "outputs": [],
   "source": [
    "sys.path.append(os.path.abspath(os.path.join('../src')))\n",
    "from clm_tensorflow.cumulative_link import CumulativeLink\n",
    "from clm_tensorflow.negative_log_likelihood import NegativeLogLikelihood"
   ]
  },
  {
   "attachments": {},
   "cell_type": "markdown",
   "metadata": {},
   "source": [
    "## Data Preprocessing"
   ]
  },
  {
   "cell_type": "code",
   "execution_count": 4,
   "metadata": {},
   "outputs": [],
   "source": [
    "# Set the random state\n",
    "random_state=1"
   ]
  },
  {
   "cell_type": "code",
   "execution_count": 5,
   "metadata": {},
   "outputs": [],
   "source": [
    "# Load Data\n",
    "X, y = load_diabetes(return_X_y=True, as_frame=False)"
   ]
  },
  {
   "cell_type": "code",
   "execution_count": 6,
   "metadata": {},
   "outputs": [],
   "source": [
    "# Train Test Split\n",
    "X_train, X_test, y_train, y_test = train_test_split(X, y, test_size=0.2, random_state=random_state)"
   ]
  },
  {
   "cell_type": "code",
   "execution_count": 7,
   "metadata": {},
   "outputs": [],
   "source": [
    "# Separate disease progression into ordinal classes\n",
    "est = KBinsDiscretizer(n_bins=5, encode='ordinal')\n",
    "est.fit(y_train.reshape(-1, 1))\n",
    "y_train_ordinal = est.transform(y_train.reshape(-1, 1))\n",
    "y_test_ordinal = est.transform(y_test.reshape(-1, 1))"
   ]
  },
  {
   "attachments": {},
   "cell_type": "markdown",
   "metadata": {},
   "source": [
    "### Visualize feature distributions of first label"
   ]
  },
  {
   "cell_type": "code",
   "execution_count": null,
   "metadata": {},
   "outputs": [],
   "source": [
    "sns.pairplot(preprocess_X_df(X_train).merge(preprocess_y_df(y_train)[['stay_id', 'los_geq_3_days']], on='stay_id').iloc[:,1:], hue='los_geq_3_days')"
   ]
  },
  {
   "attachments": {},
   "cell_type": "markdown",
   "metadata": {},
   "source": [
    "# Ordinal Classification"
   ]
  },
  {
   "cell_type": "code",
   "execution_count": 19,
   "metadata": {},
   "outputs": [],
   "source": [
    "n_classes = int(y_train_ordinal.max()+1)"
   ]
  },
  {
   "cell_type": "code",
   "execution_count": 24,
   "metadata": {},
   "outputs": [
    {
     "name": "stdout",
     "output_type": "stream",
     "text": [
      "Epoch 1/100\n",
      "12/12 [==============================] - 0s 2ms/step - loss: 1.7609\n",
      "Epoch 2/100\n",
      "12/12 [==============================] - 0s 2ms/step - loss: 1.4985\n",
      "Epoch 3/100\n",
      "12/12 [==============================] - 0s 2ms/step - loss: 1.4644\n",
      "Epoch 4/100\n",
      "12/12 [==============================] - 0s 2ms/step - loss: 1.4256\n",
      "Epoch 5/100\n",
      "12/12 [==============================] - 0s 2ms/step - loss: 1.3997\n",
      "Epoch 6/100\n",
      "12/12 [==============================] - 0s 2ms/step - loss: 1.3897\n",
      "Epoch 7/100\n",
      "12/12 [==============================] - 0s 2ms/step - loss: 1.3817\n",
      "Epoch 8/100\n",
      "12/12 [==============================] - 0s 2ms/step - loss: 1.3822\n",
      "Epoch 9/100\n",
      "12/12 [==============================] - 0s 2ms/step - loss: 1.3707\n",
      "Epoch 10/100\n",
      "12/12 [==============================] - 0s 2ms/step - loss: 1.3452\n",
      "Epoch 11/100\n",
      "12/12 [==============================] - 0s 2ms/step - loss: 1.3408\n",
      "Epoch 12/100\n",
      "12/12 [==============================] - 0s 2ms/step - loss: 1.3289\n",
      "Epoch 13/100\n",
      "12/12 [==============================] - 0s 2ms/step - loss: 1.3223\n",
      "Epoch 14/100\n",
      "12/12 [==============================] - 0s 2ms/step - loss: 1.3204\n",
      "Epoch 15/100\n",
      "12/12 [==============================] - 0s 2ms/step - loss: 1.3252\n",
      "Epoch 16/100\n",
      "12/12 [==============================] - 0s 2ms/step - loss: 1.3106\n",
      "Epoch 17/100\n",
      "12/12 [==============================] - 0s 2ms/step - loss: 1.3266\n",
      "Epoch 18/100\n",
      "12/12 [==============================] - 0s 2ms/step - loss: 1.3199\n",
      "Epoch 19/100\n",
      "12/12 [==============================] - 0s 2ms/step - loss: 1.3106\n",
      "Epoch 20/100\n",
      "12/12 [==============================] - 0s 2ms/step - loss: 1.3123\n",
      "Epoch 21/100\n",
      "12/12 [==============================] - 0s 2ms/step - loss: 1.2982\n",
      "Epoch 22/100\n",
      "12/12 [==============================] - 0s 1ms/step - loss: 1.3023\n",
      "Epoch 23/100\n",
      "12/12 [==============================] - 0s 2ms/step - loss: 1.2916\n",
      "Epoch 24/100\n",
      "12/12 [==============================] - 0s 2ms/step - loss: 1.2913\n",
      "Epoch 25/100\n",
      "12/12 [==============================] - 0s 2ms/step - loss: 1.2887\n",
      "Epoch 26/100\n",
      "12/12 [==============================] - 0s 2ms/step - loss: 1.2856\n",
      "Epoch 27/100\n",
      "12/12 [==============================] - 0s 2ms/step - loss: 1.2937\n",
      "Epoch 28/100\n",
      "12/12 [==============================] - 0s 2ms/step - loss: 1.2904\n",
      "Epoch 29/100\n",
      "12/12 [==============================] - 0s 2ms/step - loss: 1.2934\n",
      "Epoch 30/100\n",
      "12/12 [==============================] - 0s 2ms/step - loss: 1.2904\n",
      "Epoch 31/100\n",
      "12/12 [==============================] - 0s 2ms/step - loss: 1.2865\n",
      "Epoch 32/100\n",
      "12/12 [==============================] - 0s 2ms/step - loss: 1.2951\n",
      "Epoch 33/100\n",
      "12/12 [==============================] - 0s 2ms/step - loss: 1.2881\n",
      "Epoch 34/100\n",
      "12/12 [==============================] - 0s 2ms/step - loss: 1.2926\n",
      "Epoch 35/100\n",
      "12/12 [==============================] - 0s 2ms/step - loss: 1.2959\n",
      "Epoch 36/100\n",
      "12/12 [==============================] - 0s 2ms/step - loss: 1.2786\n",
      "Epoch 37/100\n",
      "12/12 [==============================] - 0s 2ms/step - loss: 1.2811\n",
      "Epoch 38/100\n",
      "12/12 [==============================] - 0s 2ms/step - loss: 1.2772\n",
      "Epoch 39/100\n",
      "12/12 [==============================] - 0s 2ms/step - loss: 1.2816\n",
      "Epoch 40/100\n",
      "12/12 [==============================] - 0s 2ms/step - loss: 1.2877\n",
      "Epoch 41/100\n",
      "12/12 [==============================] - 0s 2ms/step - loss: 1.2861\n",
      "Epoch 42/100\n",
      "12/12 [==============================] - 0s 2ms/step - loss: 1.2855\n",
      "Epoch 43/100\n",
      "12/12 [==============================] - 0s 2ms/step - loss: 1.2957\n",
      "Epoch 44/100\n",
      "12/12 [==============================] - 0s 2ms/step - loss: 1.2835\n",
      "Epoch 45/100\n",
      "12/12 [==============================] - 0s 2ms/step - loss: 1.2979\n",
      "Epoch 46/100\n",
      "12/12 [==============================] - 0s 2ms/step - loss: 1.2922\n",
      "Epoch 47/100\n",
      "12/12 [==============================] - 0s 2ms/step - loss: 1.2774\n",
      "Epoch 48/100\n",
      "12/12 [==============================] - 0s 2ms/step - loss: 1.2814\n",
      "Epoch 49/100\n",
      "12/12 [==============================] - 0s 2ms/step - loss: 1.2842\n",
      "Epoch 50/100\n",
      "12/12 [==============================] - 0s 2ms/step - loss: 1.2849\n",
      "Epoch 51/100\n",
      "12/12 [==============================] - 0s 2ms/step - loss: 1.2757\n",
      "Epoch 52/100\n",
      "12/12 [==============================] - 0s 2ms/step - loss: 1.2920\n",
      "Epoch 53/100\n",
      "12/12 [==============================] - 0s 2ms/step - loss: 1.2984\n",
      "Epoch 54/100\n",
      "12/12 [==============================] - 0s 2ms/step - loss: 1.2893\n",
      "Epoch 55/100\n",
      "12/12 [==============================] - 0s 2ms/step - loss: 1.2821\n",
      "Epoch 56/100\n",
      "12/12 [==============================] - 0s 2ms/step - loss: 1.2808\n",
      "Epoch 57/100\n",
      "12/12 [==============================] - 0s 2ms/step - loss: 1.2833\n",
      "Epoch 58/100\n",
      "12/12 [==============================] - 0s 2ms/step - loss: 1.2829\n",
      "Epoch 59/100\n",
      "12/12 [==============================] - 0s 2ms/step - loss: 1.2782\n",
      "Epoch 60/100\n",
      "12/12 [==============================] - 0s 2ms/step - loss: 1.2808\n",
      "Epoch 61/100\n",
      "12/12 [==============================] - 0s 2ms/step - loss: 1.2789\n",
      "Epoch 62/100\n",
      "12/12 [==============================] - 0s 2ms/step - loss: 1.2831\n",
      "Epoch 63/100\n",
      "12/12 [==============================] - 0s 2ms/step - loss: 1.2869\n",
      "Epoch 64/100\n",
      "12/12 [==============================] - 0s 2ms/step - loss: 1.2790\n",
      "Epoch 65/100\n",
      "12/12 [==============================] - 0s 2ms/step - loss: 1.2824\n",
      "Epoch 66/100\n",
      "12/12 [==============================] - 0s 2ms/step - loss: 1.2928\n",
      "Epoch 67/100\n",
      "12/12 [==============================] - 0s 2ms/step - loss: 1.2825\n",
      "Epoch 68/100\n",
      "12/12 [==============================] - 0s 2ms/step - loss: 1.2781\n",
      "Epoch 69/100\n",
      "12/12 [==============================] - 0s 2ms/step - loss: 1.2854\n",
      "Epoch 70/100\n",
      "12/12 [==============================] - 0s 2ms/step - loss: 1.2793\n",
      "Epoch 71/100\n",
      "12/12 [==============================] - 0s 2ms/step - loss: 1.2761\n",
      "Epoch 72/100\n",
      "12/12 [==============================] - 0s 2ms/step - loss: 1.2702\n",
      "Epoch 73/100\n",
      "12/12 [==============================] - 0s 2ms/step - loss: 1.2784\n",
      "Epoch 74/100\n",
      "12/12 [==============================] - 0s 2ms/step - loss: 1.2795\n",
      "Epoch 75/100\n",
      "12/12 [==============================] - 0s 2ms/step - loss: 1.2816\n",
      "Epoch 76/100\n",
      "12/12 [==============================] - 0s 2ms/step - loss: 1.2810\n",
      "Epoch 77/100\n",
      "12/12 [==============================] - 0s 2ms/step - loss: 1.2800\n",
      "Epoch 78/100\n",
      "12/12 [==============================] - 0s 2ms/step - loss: 1.2723\n",
      "Epoch 79/100\n",
      "12/12 [==============================] - 0s 2ms/step - loss: 1.2785\n",
      "Epoch 80/100\n",
      "12/12 [==============================] - 0s 2ms/step - loss: 1.2718\n",
      "Epoch 81/100\n",
      "12/12 [==============================] - 0s 2ms/step - loss: 1.2736\n",
      "Epoch 82/100\n",
      "12/12 [==============================] - 0s 2ms/step - loss: 1.2717\n",
      "Epoch 83/100\n",
      "12/12 [==============================] - 0s 2ms/step - loss: 1.2756\n",
      "Epoch 84/100\n",
      "12/12 [==============================] - 0s 2ms/step - loss: 1.2771\n",
      "Epoch 85/100\n",
      "12/12 [==============================] - 0s 2ms/step - loss: 1.2829\n",
      "Epoch 86/100\n",
      "12/12 [==============================] - 0s 1ms/step - loss: 1.2755\n",
      "Epoch 87/100\n",
      "12/12 [==============================] - 0s 2ms/step - loss: 1.2779\n",
      "Epoch 88/100\n",
      "12/12 [==============================] - 0s 2ms/step - loss: 1.2826\n",
      "Epoch 89/100\n",
      "12/12 [==============================] - 0s 1ms/step - loss: 1.2810\n",
      "Epoch 90/100\n",
      "12/12 [==============================] - 0s 2ms/step - loss: 1.2849\n",
      "Epoch 91/100\n",
      "12/12 [==============================] - 0s 2ms/step - loss: 1.2826\n",
      "Epoch 92/100\n",
      "12/12 [==============================] - 0s 2ms/step - loss: 1.2903\n",
      "Epoch 93/100\n",
      "12/12 [==============================] - 0s 2ms/step - loss: 1.2825\n",
      "Epoch 94/100\n",
      "12/12 [==============================] - 0s 2ms/step - loss: 1.2716\n",
      "Epoch 95/100\n",
      "12/12 [==============================] - 0s 2ms/step - loss: 1.2805\n",
      "Epoch 96/100\n",
      "12/12 [==============================] - 0s 2ms/step - loss: 1.2978\n",
      "Epoch 97/100\n",
      "12/12 [==============================] - 0s 2ms/step - loss: 1.2994\n",
      "Epoch 98/100\n",
      "12/12 [==============================] - 0s 2ms/step - loss: 1.2828\n",
      "Epoch 99/100\n",
      "12/12 [==============================] - 0s 2ms/step - loss: 1.2995\n",
      "Epoch 100/100\n",
      "12/12 [==============================] - 0s 2ms/step - loss: 1.2954\n"
     ]
    }
   ],
   "source": [
    "input = tf.keras.Input(shape=(X_train.shape[-1],))\n",
    "dense_layer = tf.keras.layers.Dense(1)(input)\n",
    "\n",
    "sorted_random_values = tf.sort(tf.random.normal(shape=(n_classes - 1,)))\n",
    "\n",
    "cutpoints_layer = tfp.layers.VariableLayer(shape=(n_classes - 1,),\n",
    "                                            initializer=lambda shape, dtype: \n",
    "                                                tfp.util.TransformedVariable(\n",
    "                                                    initial_value=sorted_random_values,\n",
    "                                                    bijector=tfb.Scale(scale=1.),\n",
    "                                                    dtype=dtype),\n",
    "                                            # regularizer=tf.keras.regularizers.l2(),\n",
    "                                            )(input)\n",
    "ordinal_layer = tfp.layers.DistributionLambda(lambda t: CumulativeLink(loc=t[0], cutpoints=t[1]))([dense_layer, cutpoints_layer])\n",
    "ordinal_model = tf.keras.Model(inputs=input, outputs=ordinal_layer)\n",
    "\n",
    "ordinal_model.compile(optimizer=Adam(lr=0.05), loss=NegativeLogLikelihood())\n",
    "history = ordinal_model.fit(X_train, y_train_ordinal, epochs=100)"
   ]
  },
  {
   "cell_type": "code",
   "execution_count": 25,
   "metadata": {},
   "outputs": [
    {
     "data": {
      "text/plain": [
       "<function matplotlib.pyplot.show(close=None, block=None)>"
      ]
     },
     "execution_count": 25,
     "metadata": {},
     "output_type": "execute_result"
    },
    {
     "data": {
      "image/png": "[encoded data removed]",
      "text/plain": [
       "<Figure size 432x288 with 1 Axes>"
      ]
     },
     "metadata": {
      "needs_background": "light"
     },
     "output_type": "display_data"
    }
   ],
   "source": [
    "# Plot Training loss\n",
    "plt.plot(history.history['loss'])\n",
    "plt.xlabel('epoch')\n",
    "plt.ylabel('Negative Log-Likelihood per Sample')\n",
    "plt.title('Ordinal Regression Log-loss change\\nOptimized using tensorflow_probability')\n",
    "plt.grid()\n",
    "plt.show"
   ]
  },
  {
   "cell_type": "code",
   "execution_count": 27,
   "metadata": {},
   "outputs": [
    {
     "name": "stdout",
     "output_type": "stream",
     "text": [
      "Model: \"functional_3\"\n",
      "__________________________________________________________________________________________________\n",
      "Layer (type)                    Output Shape         Param #     Connected to                     \n",
      "==================================================================================================\n",
      "input_4 (InputLayer)            [(None, 10)]         0                                            \n",
      "__________________________________________________________________________________________________\n",
      "dense_3 (Dense)                 (None, 1)            11          input_4[0][0]                    \n",
      "__________________________________________________________________________________________________\n",
      "variable_layer_1 (VariableLayer (4,)                 4           input_4[0][0]                    \n",
      "__________________________________________________________________________________________________\n",
      "distribution_lambda_1 (Distribu ((None, 1), (None, 1 0           dense_3[0][0]                    \n",
      "                                                                 variable_layer_1[0][0]           \n",
      "==================================================================================================\n",
      "Total params: 15\n",
      "Trainable params: 15\n",
      "Non-trainable params: 0\n",
      "__________________________________________________________________________________________________\n",
      "None\n",
      "[<tf.Variable 'dense_3/kernel:0' shape=(10, 1) dtype=float32, numpy=\n",
      "array([[-0.97620517],\n",
      "       [-5.30187   ],\n",
      "       [10.021668  ],\n",
      "       [ 5.957219  ],\n",
      "       [-1.2394066 ],\n",
      "       [-2.7157116 ],\n",
      "       [-4.7023196 ],\n",
      "       [ 1.8653061 ],\n",
      "       [ 8.801555  ],\n",
      "       [ 1.812897  ]], dtype=float32)>, <tf.Variable 'dense_3/bias:0' shape=(1,) dtype=float32, numpy=array([0.5296212], dtype=float32)>, <tf.Variable 'constant:0' shape=(4,) dtype=float32, numpy=array([-0.7670565 ,  0.10449786,  0.826528  ,  1.6032561 ], dtype=float32)>]\n"
     ]
    }
   ],
   "source": [
    "# Model Summary\n",
    "tf.print(ordinal_model.summary())\n",
    "print(ordinal_model.trainable_weights)"
   ]
  },
  {
   "cell_type": "code",
   "execution_count": 23,
   "metadata": {},
   "outputs": [],
   "source": [
    "# Predict probability scores for each dataset\n",
    "y_train_pred = ordinal_model.predict(X_train)\n",
    "y_test_pred = ordinal_model.predict(X_test)\n",
    "# y_scores = [y_score_train, y_score_valid, y_score_test]"
   ]
  },
  {
   "cell_type": "code",
   "execution_count": 28,
   "metadata": {},
   "outputs": [
    {
     "data": {
      "image/png": "[encoded data removed]",
      "text/plain": [
       "<Figure size 432x288 with 2 Axes>"
      ]
     },
     "metadata": {
      "needs_background": "light"
     },
     "output_type": "display_data"
    }
   ],
   "source": [
    "# Training Confusion Matrix\n",
    "cf_matrix = confusion_matrix(y_train_ordinal, y_train_pred, normalize='true',labels=list(range(n_classes)))\n",
    "\n",
    "ax = sns.heatmap(cf_matrix, linewidths=1, annot=True, fmt='.2f')\n",
    "ax.set_ylabel(f'Actual')\n",
    "ax.set_xlabel(f'Predicted')\n",
    "plt.show()"
   ]
  },
  {
   "cell_type": "code",
   "execution_count": 29,
   "metadata": {},
   "outputs": [
    {
     "data": {
      "image/png": "[encoded data removed]",
      "text/plain": [
       "<Figure size 432x288 with 2 Axes>"
      ]
     },
     "metadata": {
      "needs_background": "light"
     },
     "output_type": "display_data"
    }
   ],
   "source": [
    "# Training Confusion Matrix\n",
    "cf_matrix = confusion_matrix(y_test_ordinal, y_test_pred, normalize='true',labels=list(range(n_classes)))\n",
    "\n",
    "ax = sns.heatmap(cf_matrix, linewidths=1, annot=True, fmt='.2f')\n",
    "ax.set_ylabel(f'Actual')\n",
    "ax.set_xlabel(f'Predicted')\n",
    "plt.show()"
   ]
  },
  {
   "cell_type": "code",
   "execution_count": null,
   "metadata": {},
   "outputs": [],
   "source": [
    "# Plot ROC & PRC\n",
    "titles = ['Training', 'Validation', 'Testing']\n",
    "fig, ax = plt.subplots(3,2, figsize=(8,12))\n",
    "for i in range(3):\n",
    "    fpr, tpr, thresholds = roc_curve(preprocess_y_df(y_data[i])['los_geq_3_days'], y_scores[i])\n",
    "    precision, recall, thresholds = precision_recall_curve(preprocess_y_df(y_data[i])['los_geq_3_days'], y_scores[i])\n",
    "    # Plot ROC\n",
    "    ax[i,0].plot(fpr, tpr)\n",
    "    ax[i,0].set_xlabel('FPR')\n",
    "    ax[i,0].set_ylabel('TPR')\n",
    "    ax[i,0].set_title(f'{titles[i]} Set: ROC AUC = {auc(fpr, tpr):0.3f}')\n",
    "    # Plot PRC\n",
    "    ax[i,1].plot(recall, precision)\n",
    "    ax[i,1].set_xlabel('recall')\n",
    "    ax[i,1].set_ylabel('precision')\n",
    "    ax[i,1].set_title(f'{titles[i]} Set: PRC AUC = {auc(recall, precision):0.3f}')\n",
    "fig.suptitle('Binary Classification: LOS >= 3 days\\nMethod: TensorFlow Logistic Regression')\n",
    "plt.tight_layout()\n",
    "plt.show()"
   ]
  },
  {
   "attachments": {},
   "cell_type": "markdown",
   "metadata": {},
   "source": [
    "## >7 days"
   ]
  },
  {
   "cell_type": "code",
   "execution_count": null,
   "metadata": {},
   "outputs": [],
   "source": [
    "# Keras Model\n",
    "model = tf.keras.Sequential([\n",
    "    tf.keras.layers.Dense(1, activation='sigmoid')\n",
    "])\n",
    "model.compile(loss='bce', metrics=['accuracy', 'bce'])\n",
    "model.fit(\n",
    "    x=preprocess_X_df(X_train, normalize=True).iloc[:,1:],\n",
    "    y=preprocess_y_df(y_train)['los_geq_7_days'],\n",
    "    epochs=10,\n",
    "    validation_data=(preprocess_X_df(X_valid, normalize=True).iloc[:,1:], preprocess_y_df(y_valid)['los_geq_7_days']),\n",
    "    )"
   ]
  },
  {
   "cell_type": "code",
   "execution_count": null,
   "metadata": {},
   "outputs": [],
   "source": [
    "# Predict prob scores for each dataset\n",
    "y_score_train = model.predict(preprocess_X_df(X_train).iloc[:,1:])\n",
    "y_score_valid = model.predict(preprocess_X_df(X_valid).iloc[:,1:])\n",
    "y_score_test = model.predict(preprocess_X_df(X_test).iloc[:,1:])\n",
    "y_scores = [y_score_train, y_score_valid, y_score_test]"
   ]
  },
  {
   "cell_type": "code",
   "execution_count": null,
   "metadata": {},
   "outputs": [],
   "source": [
    "# Plot ROC & PRC\n",
    "titles = ['Training', 'Validation', 'Testing']\n",
    "fig, ax = plt.subplots(3,2, figsize=(8,12))\n",
    "for i in range(3):\n",
    "    fpr, tpr, thresholds = roc_curve(preprocess_y_df(y_data[i])['los_geq_7_days'], y_scores[i])\n",
    "    precision, recall, thresholds = precision_recall_curve(preprocess_y_df(y_data[i])['los_geq_7_days'], y_scores[i])\n",
    "    # Plot ROC\n",
    "    ax[i,0].plot(fpr, tpr)\n",
    "    ax[i,0].set_xlabel('FPR')\n",
    "    ax[i,0].set_ylabel('TPR')\n",
    "    ax[i,0].set_title(f'{titles[i]} Set: ROC AUC = {auc(fpr, tpr):0.3f}')\n",
    "    # Plot PRC\n",
    "    ax[i,1].plot(recall, precision)\n",
    "    ax[i,1].set_xlabel('recall')\n",
    "    ax[i,1].set_ylabel('precision')\n",
    "    ax[i,1].set_title(f'{titles[i]} Set: PRC AUC = {auc(recall, precision):0.3f}')\n",
    "fig.suptitle('Binary Classification: LOS >= 7 days\\nMethod: TensorFlow Logistic Regression')\n",
    "plt.tight_layout()\n",
    "plt.show()"
   ]
  },
  {
   "attachments": {},
   "cell_type": "markdown",
   "metadata": {},
   "source": [
    "## >11 days"
   ]
  },
  {
   "cell_type": "code",
   "execution_count": null,
   "metadata": {},
   "outputs": [],
   "source": [
    "# Keras Model\n",
    "model = tf.keras.Sequential([\n",
    "    tf.keras.layers.Dense(1, activation='sigmoid')\n",
    "])\n",
    "model.compile(loss='bce', metrics=['accuracy', 'bce'])\n",
    "model.fit(\n",
    "    x=preprocess_X_df(X_train, normalize=True).iloc[:,1:],\n",
    "    y=preprocess_y_df(y_train)['los_geq_11_days'],\n",
    "    epochs=10,\n",
    "    validation_data=(preprocess_X_df(X_valid, normalize=True).iloc[:,1:], preprocess_y_df(y_valid)['los_geq_11_days']),\n",
    "    )"
   ]
  },
  {
   "cell_type": "code",
   "execution_count": null,
   "metadata": {},
   "outputs": [],
   "source": [
    "# Predict probability scores for each dataset\n",
    "y_score_train = model.predict(preprocess_X_df(X_train).iloc[:,1:])\n",
    "y_score_valid = model.predict(preprocess_X_df(X_valid).iloc[:,1:])\n",
    "y_score_test = model.predict(preprocess_X_df(X_test).iloc[:,1:])\n",
    "y_scores = [y_score_train, y_score_valid, y_score_test]"
   ]
  },
  {
   "cell_type": "code",
   "execution_count": null,
   "metadata": {},
   "outputs": [],
   "source": [
    "# Plotting\n",
    "titles = ['Training', 'Validation', 'Testing']\n",
    "fig, ax = plt.subplots(3,2, figsize=(8,12))\n",
    "for i in range(3):\n",
    "    fpr, tpr, thresholds = roc_curve(preprocess_y_df(y_data[i])['los_geq_11_days'], y_scores[i])\n",
    "    precision, recall, thresholds = precision_recall_curve(preprocess_y_df(y_data[i])['los_geq_11_days'], y_scores[i])\n",
    "    # Plot ROC\n",
    "    ax[i,0].plot(fpr, tpr)\n",
    "    ax[i,0].set_xlabel('FPR')\n",
    "    ax[i,0].set_ylabel('TPR')\n",
    "    ax[i,0].set_title(f'{titles[i]} Set: ROC AUC = {auc(fpr, tpr):0.3f}')\n",
    "    # Plot PRC\n",
    "    ax[i,1].plot(recall, precision)\n",
    "    ax[i,1].set_xlabel('recall')\n",
    "    ax[i,1].set_ylabel('precision')\n",
    "    ax[i,1].set_title(f'{titles[i]} Set: PRC AUC = {auc(recall, precision):0.3f}')\n",
    "fig.suptitle('Binary Classification: LOS >= 11 days\\nMethod: TensorFlow Logistic Regression')\n",
    "plt.tight_layout()\n",
    "plt.show()"
   ]
  },
  {
   "attachments": {},
   "cell_type": "markdown",
   "metadata": {},
   "source": [
    "# Ordinal Classification"
   ]
  },
  {
   "attachments": {},
   "cell_type": "markdown",
   "metadata": {},
   "source": [
    "### Training and model summary"
   ]
  },
  {
   "cell_type": "code",
   "execution_count": null,
   "metadata": {},
   "outputs": [],
   "source": [
    "# Determine number of labels\n",
    "R = preprocess_y_df(y_valid)['ordinal_label'].max() + 1\n",
    "\n",
    "# Initialize cutpoints uniformly between 0-1 using number of labels\n",
    "cutpoints = tf.Variable(\n",
    "    initial_value=tf.range(R-1, dtype=np.float32) / (R-2),\n",
    "    trainable=True,\n",
    "    )\n",
    "\n",
    "# Keras Model\n",
    "model = tf.keras.Sequential([\n",
    "    tf.keras.layers.Dense(1),\n",
    "    tfp.layers.DistributionLambda(lambda t: tfp.distributions.OrderedLogistic(cutpoints=cutpoints, loc=t))\n",
    "])\n",
    "model.compile(optimizer='adam', loss=OrdinalLoss())\n",
    "history = model.fit(\n",
    "    x=preprocess_X_df(X_train, normalize=True).iloc[:,1:],\n",
    "    y=preprocess_y_df(y_train)['ordinal_label'],\n",
    "    epochs=10,\n",
    "    validation_data=(preprocess_X_df(X_valid, normalize=True).iloc[:,1:], preprocess_y_df(y_valid)['ordinal_label']),\n",
    "    )"
   ]
  },
  {
   "cell_type": "code",
   "execution_count": null,
   "metadata": {},
   "outputs": [],
   "source": [
    "# Plot Training loss\n",
    "plt.plot(history.history['loss'])\n",
    "plt.xlabel('epoch')\n",
    "plt.ylabel('Negative Log-Likelihood per Sample')\n",
    "plt.title('Ordinal Regression Log-loss change\\nOptimized using tensorflow_probability')\n",
    "plt.grid()\n",
    "plt.show"
   ]
  },
  {
   "cell_type": "code",
   "execution_count": null,
   "metadata": {},
   "outputs": [],
   "source": [
    "# Model Summary\n",
    "tf.print(model.summary())\n",
    "print(model.trainable_weights)"
   ]
  },
  {
   "cell_type": "code",
   "execution_count": null,
   "metadata": {},
   "outputs": [],
   "source": [
    "# Confusion Matrix\n",
    "y = preprocess_y_df(y_train)['ordinal_label'].to_numpy()\n",
    "y_predict = model.predict(preprocess_X_df(X_train, normalize=True).iloc[:,1:].to_numpy())\n",
    "\n",
    "cf_matrix = confusion_matrix(y, y_predict, normalize='true',labels=list(range(y.max()+1)))\n",
    "\n",
    "ax = sns.heatmap(cf_matrix, linewidths=1, annot=True, fmt='.2f')\n",
    "ax.set_ylabel(f'Actual')\n",
    "ax.set_xlabel(f'Predicted')\n",
    "plt.show()"
   ]
  },
  {
   "cell_type": "code",
   "execution_count": null,
   "metadata": {},
   "outputs": [],
   "source": [
    "# Compute ordinal probabilities for each label\n",
    "y_probas_train = model(preprocess_X_df(X_train, normalize=True).iloc[:,1:].to_numpy()).categorical_probs().numpy().squeeze()\n",
    "y_probas_valid = model(preprocess_X_df(X_valid, normalize=True).iloc[:,1:].to_numpy()).categorical_probs().numpy().squeeze()\n",
    "y_probas_test = model(preprocess_X_df(X_test, normalize=True).iloc[:,1:].to_numpy()).categorical_probs().numpy().squeeze()\n"
   ]
  },
  {
   "attachments": {},
   "cell_type": "markdown",
   "metadata": {},
   "source": [
    "## >3 days"
   ]
  },
  {
   "cell_type": "code",
   "execution_count": null,
   "metadata": {},
   "outputs": [],
   "source": [
    "# Compute binary probability scores from ordinal probabilities \n",
    "y_probas_train_geq3 = y_probas_train[:,1:].sum(axis=1)\n",
    "y_probas_valid_geq3 = y_probas_valid[:,1:].sum(axis=1)\n",
    "y_probas_test_geq3 = y_probas_test[:,1:].sum(axis=1)\n",
    "y_scores = [y_probas_train_geq3, y_probas_valid_geq3, y_probas_test_geq3]"
   ]
  },
  {
   "cell_type": "code",
   "execution_count": null,
   "metadata": {},
   "outputs": [],
   "source": [
    "# Plotting\n",
    "titles = ['Training', 'Validation', 'Testing']\n",
    "fig, ax = plt.subplots(3,2, figsize=(8,12))\n",
    "for i in range(3):\n",
    "    fpr, tpr, thresholds = roc_curve(preprocess_y_df(y_data[i])['los_geq_3_days'], y_scores[i])\n",
    "    precision, recall, thresholds = precision_recall_curve(preprocess_y_df(y_data[i])['los_geq_3_days'], y_scores[i])\n",
    "    # Plot ROC\n",
    "    ax[i,0].plot(fpr, tpr)\n",
    "    ax[i,0].set_xlabel('FPR')\n",
    "    ax[i,0].set_ylabel('TPR')\n",
    "    ax[i,0].set_title(f'{titles[i]} Set: ROC AUC = {auc(fpr, tpr):0.3f}')\n",
    "    # Plot PRC\n",
    "    ax[i,1].plot(recall, precision)\n",
    "    ax[i,1].set_xlabel('recall')\n",
    "    ax[i,1].set_ylabel('precision')\n",
    "    ax[i,1].set_title(f'{titles[i]} Set: PRC AUC = {auc(recall, precision):0.3f}')\n",
    "fig.suptitle('Ordinal Classification: LOS >= 3 days\\nMethod: TensorFlow Ordered Logistic')\n",
    "plt.tight_layout()\n",
    "plt.show()"
   ]
  },
  {
   "attachments": {},
   "cell_type": "markdown",
   "metadata": {},
   "source": [
    "## >7 days"
   ]
  },
  {
   "cell_type": "code",
   "execution_count": null,
   "metadata": {},
   "outputs": [],
   "source": [
    "# Compute binary probability scores from ordinal probabilities \n",
    "y_probas_train_geq7 = y_probas_train[:,2:].sum(axis=1)\n",
    "y_probas_valid_geq7 = y_probas_valid[:,2:].sum(axis=1)\n",
    "y_probas_test_geq7 = y_probas_test[:,2:].sum(axis=1)\n",
    "y_scores = [y_probas_train_geq3, y_probas_valid_geq3, y_probas_test_geq3]"
   ]
  },
  {
   "cell_type": "code",
   "execution_count": null,
   "metadata": {},
   "outputs": [],
   "source": [
    "# Plotting\n",
    "titles = ['Training', 'Validation', 'Testing']\n",
    "fig, ax = plt.subplots(3,2, figsize=(8,12))\n",
    "for i in range(3):\n",
    "    fpr, tpr, thresholds = roc_curve(preprocess_y_df(y_data[i])['los_geq_7_days'], y_scores[i])\n",
    "    precision, recall, thresholds = precision_recall_curve(preprocess_y_df(y_data[i])['los_geq_7_days'], y_scores[i])\n",
    "    # Plot ROC\n",
    "    ax[i,0].plot(fpr, tpr)\n",
    "    ax[i,0].set_xlabel('FPR')\n",
    "    ax[i,0].set_ylabel('TPR')\n",
    "    ax[i,0].set_title(f'{titles[i]} Set: ROC AUC = {auc(fpr, tpr):0.3f}')\n",
    "    # Plot PRC\n",
    "    ax[i,1].plot(recall, precision)\n",
    "    ax[i,1].set_xlabel('recall')\n",
    "    ax[i,1].set_ylabel('precision')\n",
    "    ax[i,1].set_title(f'{titles[i]} Set: PRC AUC = {auc(recall, precision):0.3f}')\n",
    "fig.suptitle('Ordinal Classification: LOS >= 7 days\\nMethod: TensorFlow Ordered Logistic')\n",
    "plt.tight_layout()\n",
    "plt.show()"
   ]
  },
  {
   "attachments": {},
   "cell_type": "markdown",
   "metadata": {},
   "source": [
    "## >11 days"
   ]
  },
  {
   "cell_type": "code",
   "execution_count": null,
   "metadata": {},
   "outputs": [],
   "source": [
    "# Compute binary probability scores from ordinal probabilities \n",
    "y_probas_train_geq11 = y_probas_train[:,3:].sum(axis=1)\n",
    "y_probas_valid_geq11 = y_probas_valid[:,3:].sum(axis=1)\n",
    "y_probas_test_geq11 = y_probas_test[:,3:].sum(axis=1)\n",
    "y_scores = [y_probas_train_geq3, y_probas_valid_geq3, y_probas_test_geq3]"
   ]
  },
  {
   "cell_type": "code",
   "execution_count": null,
   "metadata": {},
   "outputs": [],
   "source": [
    "# Plotting\n",
    "titles = ['Training', 'Validation', 'Testing']\n",
    "fig, ax = plt.subplots(3,2, figsize=(8,12))\n",
    "for i in range(3):\n",
    "    fpr, tpr, thresholds = roc_curve(preprocess_y_df(y_data[i])['los_geq_11_days'], y_scores[i])\n",
    "    precision, recall, thresholds = precision_recall_curve(preprocess_y_df(y_data[i])['los_geq_11_days'], y_scores[i])\n",
    "    # Plot ROC\n",
    "    ax[i,0].plot(fpr, tpr)\n",
    "    ax[i,0].set_xlabel('FPR')\n",
    "    ax[i,0].set_ylabel('TPR')\n",
    "    ax[i,0].set_title(f'{titles[i]} Set: ROC AUC = {auc(fpr, tpr):0.3f}')\n",
    "    # Plot PRC\n",
    "    ax[i,1].plot(recall, precision)\n",
    "    ax[i,1].set_xlabel('recall')\n",
    "    ax[i,1].set_ylabel('precision')\n",
    "    ax[i,1].set_title(f'{titles[i]} Set: PRC AUC = {auc(recall, precision):0.3f}')\n",
    "fig.suptitle('Ordinal Classification: LOS >= 11 days\\nMethod: TensorFlow Ordered Logistic')\n",
    "plt.tight_layout()\n",
    "plt.show()"
   ]
  },
  {
   "cell_type": "code",
   "execution_count": null,
   "metadata": {},
   "outputs": [],
   "source": []
  }
 ],
 "metadata": {
  "kernelspec": {
   "display_name": "pchmm",
   "language": "python",
   "name": "python3"
  },
  "language_info": {
   "codemirror_mode": {
    "name": "ipython",
    "version": 3
   },
   "file_extension": ".py",
   "mimetype": "text/x-python",
   "name": "python",
   "nbconvert_exporter": "python",
   "pygments_lexer": "ipython3",
   "version": "3.6.12"
  },
  "orig_nbformat": 4
 },
 "nbformat": 4,
 "nbformat_minor": 2
}
